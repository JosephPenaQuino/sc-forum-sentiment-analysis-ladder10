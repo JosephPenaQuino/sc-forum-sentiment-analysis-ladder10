{
 "cells": [
  {
   "cell_type": "code",
   "execution_count": 7,
   "metadata": {},
   "outputs": [],
   "source": [
    "import requests\n",
    "from bs4 import BeautifulSoup\n",
    "import os"
   ]
  },
  {
   "cell_type": "code",
   "execution_count": null,
   "metadata": {},
   "outputs": [],
   "source": [
    "FILE_R_PATH = 'r.txt' # file where it is saved sc2 data\n",
    "URL = 'https://us.forums.blizzard.com/en/starcraft/t/new-ladder-season-incoming/2577'"
   ]
  },
  {
   "cell_type": "code",
   "execution_count": 2,
   "metadata": {},
   "outputs": [],
   "source": [
    "if os.path.exists('r.txt'):\n",
    "    with open(FILE_R_PATH, 'r') as f:\n",
    "        r = f.read()\n",
    "else:\n",
    "    r = requests.get(URL)"
   ]
  },
  {
   "cell_type": "code",
   "execution_count": 3,
   "metadata": {},
   "outputs": [
    {
     "data": {
      "text/plain": [
       "200"
      ]
     },
     "execution_count": 3,
     "metadata": {},
     "output_type": "execute_result"
    }
   ],
   "source": [
    "r.status_code"
   ]
  },
  {
   "cell_type": "code",
   "execution_count": 5,
   "metadata": {},
   "outputs": [
    {
     "data": {
      "text/plain": [
       "str"
      ]
     },
     "execution_count": 5,
     "metadata": {},
     "output_type": "execute_result"
    }
   ],
   "source": [
    "type(r.text)"
   ]
  },
  {
   "cell_type": "code",
   "execution_count": 6,
   "metadata": {},
   "outputs": [],
   "source": [
    "# save r.txt in a text file\n",
    "with open('r.txt', 'w') as f:\n",
    "    f.write(r.text)\n"
   ]
  }
 ],
 "metadata": {
  "interpreter": {
   "hash": "3cf1c5ca3fc9c48c6dc44a1c503f966deb6bc787c66fefb67595fed0d92b838c"
  },
  "kernelspec": {
   "display_name": "Python 3.10.4 ('dataScience2')",
   "language": "python",
   "name": "python3"
  },
  "language_info": {
   "codemirror_mode": {
    "name": "ipython",
    "version": 3
   },
   "file_extension": ".py",
   "mimetype": "text/x-python",
   "name": "python",
   "nbconvert_exporter": "python",
   "pygments_lexer": "ipython3",
   "version": "3.10.4"
  },
  "orig_nbformat": 4
 },
 "nbformat": 4,
 "nbformat_minor": 2
}
